{
 "cells": [
  {
   "cell_type": "markdown",
   "metadata": {},
   "source": [
    "# Tian Chen\n"
   ]
  },
  {
   "cell_type": "markdown",
   "metadata": {},
   "source": [
    "# 1: Import the spam dataset and print the first six rows.\n"
   ]
  },
  {
   "cell_type": "code",
   "execution_count": 64,
   "metadata": {},
   "outputs": [],
   "source": [
    "import pandas as pd\n",
    "import seaborn as sns\n",
    "import numpy as np\n",
    "from sklearn.model_selection import train_test_split\n",
    "from sklearn import preprocessing\n",
    "from sklearn.preprocessing import StandardScaler\n",
    "from sklearn.model_selection import KFold\n",
    "from sklearn.pipeline import make_pipeline\n",
    "from sklearn.neighbors import KNeighborsClassifier\n",
    "from sklearn.model_selection import GridSearchCV\n",
    "from sklearn.model_selection import cross_val_score\n",
    "import numpy as np\n",
    "from statistics import mean\n",
    "from sklearn.linear_model import LogisticRegression\n"
   ]
  },
  {
   "cell_type": "code",
   "execution_count": 46,
   "metadata": {},
   "outputs": [
    {
     "data": {
      "text/html": [
       "<div>\n",
       "<style scoped>\n",
       "    .dataframe tbody tr th:only-of-type {\n",
       "        vertical-align: middle;\n",
       "    }\n",
       "\n",
       "    .dataframe tbody tr th {\n",
       "        vertical-align: top;\n",
       "    }\n",
       "\n",
       "    .dataframe thead th {\n",
       "        text-align: right;\n",
       "    }\n",
       "</style>\n",
       "<table border=\"1\" class=\"dataframe\">\n",
       "  <thead>\n",
       "    <tr style=\"text-align: right;\">\n",
       "      <th></th>\n",
       "      <th>word_freq_make:</th>\n",
       "      <th>word_freq_address:</th>\n",
       "      <th>word_freq_all:</th>\n",
       "      <th>word_freq_3d:</th>\n",
       "      <th>word_freq_our:</th>\n",
       "      <th>word_freq_over:</th>\n",
       "      <th>word_freq_remove:</th>\n",
       "      <th>word_freq_internet:</th>\n",
       "      <th>word_freq_order:</th>\n",
       "      <th>word_freq_mail:</th>\n",
       "      <th>...</th>\n",
       "      <th>char_freq_;:</th>\n",
       "      <th>char_freq_(:</th>\n",
       "      <th>char_freq_[:</th>\n",
       "      <th>char_freq_!:</th>\n",
       "      <th>char_freq_$:</th>\n",
       "      <th>char_freq_#:</th>\n",
       "      <th>capital_run_length_average:</th>\n",
       "      <th>capital_run_length_longest:</th>\n",
       "      <th>capital_run_length_total:</th>\n",
       "      <th>spam</th>\n",
       "    </tr>\n",
       "  </thead>\n",
       "  <tbody>\n",
       "    <tr>\n",
       "      <th>0</th>\n",
       "      <td>0.00</td>\n",
       "      <td>0.64</td>\n",
       "      <td>0.64</td>\n",
       "      <td>0.0</td>\n",
       "      <td>0.32</td>\n",
       "      <td>0.00</td>\n",
       "      <td>0.00</td>\n",
       "      <td>0.00</td>\n",
       "      <td>0.00</td>\n",
       "      <td>0.00</td>\n",
       "      <td>...</td>\n",
       "      <td>0.00</td>\n",
       "      <td>0.000</td>\n",
       "      <td>0.0</td>\n",
       "      <td>0.778</td>\n",
       "      <td>0.000</td>\n",
       "      <td>0.000</td>\n",
       "      <td>3.756</td>\n",
       "      <td>61</td>\n",
       "      <td>278</td>\n",
       "      <td>1</td>\n",
       "    </tr>\n",
       "    <tr>\n",
       "      <th>1</th>\n",
       "      <td>0.21</td>\n",
       "      <td>0.28</td>\n",
       "      <td>0.50</td>\n",
       "      <td>0.0</td>\n",
       "      <td>0.14</td>\n",
       "      <td>0.28</td>\n",
       "      <td>0.21</td>\n",
       "      <td>0.07</td>\n",
       "      <td>0.00</td>\n",
       "      <td>0.94</td>\n",
       "      <td>...</td>\n",
       "      <td>0.00</td>\n",
       "      <td>0.132</td>\n",
       "      <td>0.0</td>\n",
       "      <td>0.372</td>\n",
       "      <td>0.180</td>\n",
       "      <td>0.048</td>\n",
       "      <td>5.114</td>\n",
       "      <td>101</td>\n",
       "      <td>1028</td>\n",
       "      <td>1</td>\n",
       "    </tr>\n",
       "    <tr>\n",
       "      <th>2</th>\n",
       "      <td>0.06</td>\n",
       "      <td>0.00</td>\n",
       "      <td>0.71</td>\n",
       "      <td>0.0</td>\n",
       "      <td>1.23</td>\n",
       "      <td>0.19</td>\n",
       "      <td>0.19</td>\n",
       "      <td>0.12</td>\n",
       "      <td>0.64</td>\n",
       "      <td>0.25</td>\n",
       "      <td>...</td>\n",
       "      <td>0.01</td>\n",
       "      <td>0.143</td>\n",
       "      <td>0.0</td>\n",
       "      <td>0.276</td>\n",
       "      <td>0.184</td>\n",
       "      <td>0.010</td>\n",
       "      <td>9.821</td>\n",
       "      <td>485</td>\n",
       "      <td>2259</td>\n",
       "      <td>1</td>\n",
       "    </tr>\n",
       "    <tr>\n",
       "      <th>3</th>\n",
       "      <td>0.00</td>\n",
       "      <td>0.00</td>\n",
       "      <td>0.00</td>\n",
       "      <td>0.0</td>\n",
       "      <td>0.63</td>\n",
       "      <td>0.00</td>\n",
       "      <td>0.31</td>\n",
       "      <td>0.63</td>\n",
       "      <td>0.31</td>\n",
       "      <td>0.63</td>\n",
       "      <td>...</td>\n",
       "      <td>0.00</td>\n",
       "      <td>0.137</td>\n",
       "      <td>0.0</td>\n",
       "      <td>0.137</td>\n",
       "      <td>0.000</td>\n",
       "      <td>0.000</td>\n",
       "      <td>3.537</td>\n",
       "      <td>40</td>\n",
       "      <td>191</td>\n",
       "      <td>1</td>\n",
       "    </tr>\n",
       "    <tr>\n",
       "      <th>4</th>\n",
       "      <td>0.00</td>\n",
       "      <td>0.00</td>\n",
       "      <td>0.00</td>\n",
       "      <td>0.0</td>\n",
       "      <td>0.63</td>\n",
       "      <td>0.00</td>\n",
       "      <td>0.31</td>\n",
       "      <td>0.63</td>\n",
       "      <td>0.31</td>\n",
       "      <td>0.63</td>\n",
       "      <td>...</td>\n",
       "      <td>0.00</td>\n",
       "      <td>0.135</td>\n",
       "      <td>0.0</td>\n",
       "      <td>0.135</td>\n",
       "      <td>0.000</td>\n",
       "      <td>0.000</td>\n",
       "      <td>3.537</td>\n",
       "      <td>40</td>\n",
       "      <td>191</td>\n",
       "      <td>1</td>\n",
       "    </tr>\n",
       "    <tr>\n",
       "      <th>5</th>\n",
       "      <td>0.00</td>\n",
       "      <td>0.00</td>\n",
       "      <td>0.00</td>\n",
       "      <td>0.0</td>\n",
       "      <td>1.85</td>\n",
       "      <td>0.00</td>\n",
       "      <td>0.00</td>\n",
       "      <td>1.85</td>\n",
       "      <td>0.00</td>\n",
       "      <td>0.00</td>\n",
       "      <td>...</td>\n",
       "      <td>0.00</td>\n",
       "      <td>0.223</td>\n",
       "      <td>0.0</td>\n",
       "      <td>0.000</td>\n",
       "      <td>0.000</td>\n",
       "      <td>0.000</td>\n",
       "      <td>3.000</td>\n",
       "      <td>15</td>\n",
       "      <td>54</td>\n",
       "      <td>1</td>\n",
       "    </tr>\n",
       "  </tbody>\n",
       "</table>\n",
       "<p>6 rows × 58 columns</p>\n",
       "</div>"
      ],
      "text/plain": [
       "   word_freq_make:  word_freq_address:  word_freq_all:  word_freq_3d:  \\\n",
       "0             0.00                0.64            0.64            0.0   \n",
       "1             0.21                0.28            0.50            0.0   \n",
       "2             0.06                0.00            0.71            0.0   \n",
       "3             0.00                0.00            0.00            0.0   \n",
       "4             0.00                0.00            0.00            0.0   \n",
       "5             0.00                0.00            0.00            0.0   \n",
       "\n",
       "   word_freq_our:  word_freq_over:  word_freq_remove:  word_freq_internet:  \\\n",
       "0            0.32             0.00               0.00                 0.00   \n",
       "1            0.14             0.28               0.21                 0.07   \n",
       "2            1.23             0.19               0.19                 0.12   \n",
       "3            0.63             0.00               0.31                 0.63   \n",
       "4            0.63             0.00               0.31                 0.63   \n",
       "5            1.85             0.00               0.00                 1.85   \n",
       "\n",
       "   word_freq_order:  word_freq_mail:  ...  char_freq_;:  char_freq_(:  \\\n",
       "0              0.00             0.00  ...          0.00         0.000   \n",
       "1              0.00             0.94  ...          0.00         0.132   \n",
       "2              0.64             0.25  ...          0.01         0.143   \n",
       "3              0.31             0.63  ...          0.00         0.137   \n",
       "4              0.31             0.63  ...          0.00         0.135   \n",
       "5              0.00             0.00  ...          0.00         0.223   \n",
       "\n",
       "   char_freq_[:  char_freq_!:  char_freq_$:  char_freq_#:  \\\n",
       "0           0.0         0.778         0.000         0.000   \n",
       "1           0.0         0.372         0.180         0.048   \n",
       "2           0.0         0.276         0.184         0.010   \n",
       "3           0.0         0.137         0.000         0.000   \n",
       "4           0.0         0.135         0.000         0.000   \n",
       "5           0.0         0.000         0.000         0.000   \n",
       "\n",
       "   capital_run_length_average:  capital_run_length_longest:  \\\n",
       "0                        3.756                           61   \n",
       "1                        5.114                          101   \n",
       "2                        9.821                          485   \n",
       "3                        3.537                           40   \n",
       "4                        3.537                           40   \n",
       "5                        3.000                           15   \n",
       "\n",
       "   capital_run_length_total:  spam  \n",
       "0                        278     1  \n",
       "1                       1028     1  \n",
       "2                       2259     1  \n",
       "3                        191     1  \n",
       "4                        191     1  \n",
       "5                         54     1  \n",
       "\n",
       "[6 rows x 58 columns]"
      ]
     },
     "execution_count": 46,
     "metadata": {},
     "output_type": "execute_result"
    }
   ],
   "source": [
    "df = pd.read_csv(\n",
    "    'C:/Users/ch199/OneDrive/Columbia University/ML/Midterm/spam_dataset.csv')\n",
    "df.head(6)\n"
   ]
  },
  {
   "cell_type": "markdown",
   "metadata": {},
   "source": [
    "# 2: Read through the documentation of the original dataset here: http://archive.ics.uci.edu/ml/machine-learning-databases/spambase/spambase.names. The dependent variable is \"spam\" where one indicates that an email is spam and zero otherwise. Which three variables in the dataset do you think will be important predictors in a model of spam? Why?\n"
   ]
  },
  {
   "cell_type": "markdown",
   "metadata": {},
   "source": [
    "The three variables that I choose are 'word_freq_credit:', 'word_freq_money:', and 'word_freq_order:'. These three variables respectively record the frequency of 'credit', 'money', and 'order'.\n",
    "\n",
    "I think 'credit' is important because often times spam emails are trying to make money from the receivers, so it is highly likely that those emails would include credit-related things to attract the receivers.\n",
    "\n",
    "'money' is important because a large quantity of spam emails are about advertisement of products or paid contents, and they are all about letting the receivers pay money.\n",
    "\n",
    "'order' is important as I have often received spam emails that are like \"order right now and save 80%\", so it is possible that many spam emails are related to the word 'order'.\n"
   ]
  },
  {
   "cell_type": "markdown",
   "metadata": {},
   "source": [
    "# 3: Visualize the univariate distribution of each of the variables in the previous question.\n"
   ]
  },
  {
   "cell_type": "code",
   "execution_count": 47,
   "metadata": {},
   "outputs": [
    {
     "data": {
      "text/plain": [
       "<seaborn.axisgrid.FacetGrid at 0x238c56754f0>"
      ]
     },
     "execution_count": 47,
     "metadata": {},
     "output_type": "execute_result"
    },
    {
     "data": {
      "image/png": "[encoded data removed]",
      "text/plain": [
       "<Figure size 360x360 with 1 Axes>"
      ]
     },
     "metadata": {
      "needs_background": "light"
     },
     "output_type": "display_data"
    }
   ],
   "source": [
    "\n",
    "# the displot of word freq credit\n",
    "sns.displot(x='word_freq_credit:', data=df)\n"
   ]
  },
  {
   "cell_type": "code",
   "execution_count": 48,
   "metadata": {},
   "outputs": [
    {
     "data": {
      "text/plain": [
       "<seaborn.axisgrid.FacetGrid at 0x238c5bfc6a0>"
      ]
     },
     "execution_count": 48,
     "metadata": {},
     "output_type": "execute_result"
    },
    {
     "data": {
      "image/png": "[encoded data removed]",
      "text/plain": [
       "<Figure size 360x360 with 1 Axes>"
      ]
     },
     "metadata": {
      "needs_background": "light"
     },
     "output_type": "display_data"
    }
   ],
   "source": [
    "sns.displot(df, x='word_freq_money:')\n"
   ]
  },
  {
   "cell_type": "code",
   "execution_count": 49,
   "metadata": {},
   "outputs": [
    {
     "data": {
      "text/plain": [
       "<seaborn.axisgrid.FacetGrid at 0x238c5bfcac0>"
      ]
     },
     "execution_count": 49,
     "metadata": {},
     "output_type": "execute_result"
    },
    {
     "data": {
      "image/png": "[encoded data removed]",
      "text/plain": [
       "<Figure size 360x360 with 1 Axes>"
      ]
     },
     "metadata": {
      "needs_background": "light"
     },
     "output_type": "display_data"
    }
   ],
   "source": [
    "sns.displot(df, x='word_freq_order:')\n"
   ]
  },
  {
   "cell_type": "markdown",
   "metadata": {},
   "source": [
    "# 4: Name each of the supervised learning models that we have learned thus far that are used to predict dependent variables like \"spam\".\n"
   ]
  },
  {
   "cell_type": "markdown",
   "metadata": {},
   "source": [
    "KNN, Logistic Regression, Logistic Regression with L1/L2 penalty, SVM, decision tree, bagged tree, random forest\n"
   ]
  },
  {
   "cell_type": "markdown",
   "metadata": {},
   "source": [
    "# 5: Describe the importance of training and test data. Why do we separate data into these subsets?\n"
   ]
  },
  {
   "cell_type": "markdown",
   "metadata": {},
   "source": [
    "we split data into training group and testing group primarily to make our models work better. If we do not split our data and use the whole data to train our model, then we cannot validate our model by letting it make predictions, since the data that we use to test the model is encompassed in the data that we use to train the model, which would lead the model to make 100% correct predictions. Therefore, in order to see whether our model is capable of making good predictions, we must split our data.\n"
   ]
  },
  {
   "cell_type": "markdown",
   "metadata": {},
   "source": [
    "# 6: What is k-fold cross validation and what do we use it for?\n"
   ]
  },
  {
   "cell_type": "markdown",
   "metadata": {},
   "source": [
    "K-fold cv is a method to validate our models. Instead of splitting our data into training and testing sets, we split the data into K (can be any reasonable number) \"folds\", and we use we use cross validation to evaluate our model. For each fold, we use K-1 groups of data to train the model and use the remaining 1 group to test the model. Then, our model is fitted on training set and tested on test set, and we get the model evaluation scores, which we use to evaluate our model.\n",
    "\n",
    "Cross validation is to remedy the setback of data splitting. Traditinoally, when we split data into training and testing sets, there is only a portion of the data that we can use to train the model. Now, if we use crovss validation, all data can be used for training the model. Thus, we can simultaneously use all of our data and see how well our model performs on unseen data.\n"
   ]
  },
  {
   "cell_type": "markdown",
   "metadata": {},
   "source": [
    "# 7: How is k-fold cross validation different from stratified k-fold cross validation?\n"
   ]
  },
  {
   "cell_type": "markdown",
   "metadata": {},
   "source": [
    "Stratified K-fold cv is different than K-fold cv in that SK-fold \"folds\" data in a way that mimicries the relative class frequencies on the entire dataset (Lecture 3 Slides). That is to say the folds of data retain the proportions of classes in the original dataset.\n",
    "\n",
    "As a result, Stratified folds are representative of the classes in original dataset, and that helps reduce bias and variance in our model as classes in the dataset are less likely to be misrepresented and thus more likely to be fairly computed.\n"
   ]
  },
  {
   "cell_type": "markdown",
   "metadata": {},
   "source": [
    "# The following codes are preparations for question 8-11\n"
   ]
  },
  {
   "cell_type": "code",
   "execution_count": 50,
   "metadata": {},
   "outputs": [],
   "source": [
    "# Train test split\n",
    "df_x = df[['word_freq_credit:', 'word_freq_money:', 'word_freq_order:']]\n",
    "y = df['spam']\n",
    "X = df_x\n",
    "X_train, X_test, y_train, y_test = train_test_split(X, y, random_state=35)\n"
   ]
  },
  {
   "cell_type": "code",
   "execution_count": 51,
   "metadata": {},
   "outputs": [],
   "source": [
    "#Scale and KFold\n",
    "scaler = preprocessing.StandardScaler()\n",
    "scaler.fit(X_train)\n",
    "scaler.fit(X_test)\n",
    "X_train_scaled = scaler.transform(X_train)\n",
    "X_test_scaled = scaler.transform(X_test)\n",
    "\n",
    "kf = KFold(n_splits=5, random_state=35, shuffle=True)\n"
   ]
  },
  {
   "cell_type": "markdown",
   "metadata": {},
   "source": [
    "# 8: Choose one model from question four. Split the data into training and test subsets. Build a model with the three variables in the dataset that you think will be good predictors of \"spam\". Describe why you chose any particular parameters for your model (e.g.- if you used KNN how did you decide to choose a specific value for k). Run the model and evaluate prediction error in two ways: A) On test data directly and B) using k-fold cross-validation.\n"
   ]
  },
  {
   "cell_type": "markdown",
   "metadata": {},
   "source": [
    "My model is KNNClassifier.\n",
    "\n",
    "I choose n_neighbors = 9 because my GridSearchCV, which I have set to avoid even numbers of n_neighbors, shows that 9 is the best parameter.\n"
   ]
  },
  {
   "cell_type": "code",
   "execution_count": 52,
   "metadata": {},
   "outputs": [
    {
     "name": "stdout",
     "output_type": "stream",
     "text": [
      "[('standardscaler', StandardScaler()), ('kneighborsclassifier', KNeighborsClassifier())]\n",
      "{'kneighborsclassifier__n_neighbors': 9}\n",
      "0.7567332754126846\n"
     ]
    }
   ],
   "source": [
    "# KNN GridSearchCV\n",
    "knn_pipe = make_pipeline(StandardScaler(), KNeighborsClassifier())\n",
    "print(knn_pipe.steps)\n",
    "\n",
    "param_grid = {'kneighborsclassifier__n_neighbors': range(1, 15, 2)}\n",
    "grid = GridSearchCV(knn_pipe, param_grid, cv=10)\n",
    "grid.fit(X_train_scaled, y_train)\n",
    "print(grid.best_params_)\n",
    "print(grid.score(X_test_scaled, y_test))\n"
   ]
  },
  {
   "cell_type": "code",
   "execution_count": 53,
   "metadata": {},
   "outputs": [
    {
     "name": "stdout",
     "output_type": "stream",
     "text": [
      "Training set accuracy: 0.766\n",
      "Test set accuracy: 0.755\n",
      "EachCV:\n",
      "[0.75942029 0.74347826 0.78550725 0.76376812 0.74057971]\n",
      "KFold:\n",
      "0.759\n"
     ]
    }
   ],
   "source": [
    "# KNN evaluation\n",
    "# w/o cv\n",
    "knn = KNeighborsClassifier(n_neighbors=9)\n",
    "knn.fit(X_train_scaled, y_train)\n",
    "\n",
    "print(\"Training set accuracy: {:.3f}\".format(\n",
    "    knn.score(X_train_scaled, y_train)))\n",
    "print(\"Test set accuracy: {:.3f}\".format(knn.score(X_test_scaled, y_test)))\n",
    "\n",
    "#w/ cv\n",
    "print(\"EachCV:\\n{}\".format(cross_val_score(\n",
    "    KNeighborsClassifier(n_neighbors=9), X_train_scaled, y_train, cv=kf)))\n",
    "print(\"KFold:\\n{:.3f}\".format(\n",
    "    mean(cross_val_score(KNeighborsClassifier(n_neighbors=9), X_train_scaled, y_train, cv=kf))))\n"
   ]
  },
  {
   "cell_type": "markdown",
   "metadata": {},
   "source": [
    "# 9: Choose a second model from question four. Using the same three variables in the dataset that you think will be good predictors of \"spam\". Describe why you chose any particular parameters for your model (e.g.- if you used KNN how did you decide to choose a specific value for k). Run the model and evaluate prediction error in two ways: A) On test data directly and B) using k-fold cross-validation. Did this model predict test data better than your previous model?\n"
   ]
  },
  {
   "cell_type": "markdown",
   "metadata": {},
   "source": [
    "My model is L1 Logsitic Regression.\n",
    "\n",
    "My C is 1.31. I choose this C because it is the best parameter generated by GridSearchCV.\n",
    "\n",
    "L1 Logistic Regression did not show improvements over KNNClassifier. On the contrary, it performed worse than KNN.\n"
   ]
  },
  {
   "cell_type": "code",
   "execution_count": 54,
   "metadata": {},
   "outputs": [
    {
     "name": "stdout",
     "output_type": "stream",
     "text": [
      "best mean cross-validation score: 0.747\n",
      "best parameters: {'C': 1.31, 'penalty': 'l1'}\n"
     ]
    }
   ],
   "source": [
    "# L1 G\n",
    "param_l1 = {'C': np.arange(.01, 10, .1), 'penalty': ['l1']}\n",
    "\n",
    "grid_l1 = GridSearchCV(LogisticRegression(solver='liblinear'), param_l1, cv=kf)\n",
    "grid_l1.fit(X_train_scaled, y_train)\n",
    "\n",
    "print(\"best mean cross-validation score: {:.3f}\".format(grid_l1.best_score_))\n",
    "print(\"best parameters: {}\".format(grid_l1.best_params_))\n"
   ]
  },
  {
   "cell_type": "code",
   "execution_count": 55,
   "metadata": {},
   "outputs": [
    {
     "name": "stdout",
     "output_type": "stream",
     "text": [
      "Lasso.coef_:\n",
      "[[1.91050093 1.04836275 0.31322716]]\n",
      "Training set score: 0.748\n",
      "Test set score: 0.745\n",
      "EachCV:\n",
      "[0.76231884 0.72753623 0.75942029 0.75362319 0.73188406]\n",
      "KFold:\n",
      "0.747\n"
     ]
    }
   ],
   "source": [
    "# L1 evaluation\n",
    "# w/o cv\n",
    "l1 = LogisticRegression(C=1.31, penalty='l1', solver='liblinear',\n",
    "                        max_iter=10000).fit(X_train_scaled, y_train)\n",
    "print(\"Lasso.coef_:\\n{}\".format(l1.coef_))\n",
    "print(\"Training set score: {:.3f}\".format(l1.score(X_train_scaled, y_train)))\n",
    "print(\"Test set score: {:.3f}\".format(l1.score(X_test_scaled, y_test)))\n",
    "\n",
    "#w/ cv\n",
    "l1_cv = cross_val_score(LogisticRegression(\n",
    "    C=1.31, penalty='l1', solver='liblinear', max_iter=10000), X_train_scaled, y_train, cv=kf)\n",
    "print(\"EachCV:\\n{}\".format(l1_cv))\n",
    "print(\"KFold:\\n{:.3f}\".format(mean(l1_cv)))\n"
   ]
  },
  {
   "cell_type": "markdown",
   "metadata": {},
   "source": [
    "# 10: Choose a third model from question four. Using the same three variables in the dataset that you think will be good predictors of \"spam\". Describe why you chose any particular parameters for your model (e.g.- if you used KNN how did you decide to choose a specific value for k). Run the model and evaluate prediction error in two ways: A) On test data directly and B) using k-fold cross-validation. Did this model predict test data better than your previous models?\n"
   ]
  },
  {
   "cell_type": "markdown",
   "metadata": {},
   "source": [
    "My model is L2 Logistic Regression.\n",
    "\n",
    "My C is 2.81. I choose this C because it is the best parameter generated by GridSearchCV.\n",
    "\n",
    "L2 performed slightly better than L1, but it is not as good as KNNClassifier.\n"
   ]
  },
  {
   "cell_type": "code",
   "execution_count": 56,
   "metadata": {},
   "outputs": [
    {
     "name": "stdout",
     "output_type": "stream",
     "text": [
      "best mean cross-validation score: 0.748\n",
      "best parameters: {'C': 2.81, 'penalty': 'l2'}\n"
     ]
    }
   ],
   "source": [
    "# L2 G\n",
    "param_l2 = {'C': np.arange(.01, 10, .1), 'penalty': ['l2']}\n",
    "\n",
    "grid_l2 = GridSearchCV(LogisticRegression(solver='newton-cg'), param_l2, cv=kf)\n",
    "grid_l2.fit(X_train_scaled, y_train)\n",
    "\n",
    "print(\"best mean cross-validation score: {:.3f}\".format(grid_l2.best_score_))\n",
    "print(\"best parameters: {}\".format(grid_l2.best_params_))\n"
   ]
  },
  {
   "cell_type": "code",
   "execution_count": 57,
   "metadata": {},
   "outputs": [
    {
     "name": "stdout",
     "output_type": "stream",
     "text": [
      "Ridge.coef_:\n",
      "[[1.91062332 1.05006155 0.31435695]]\n",
      "Training set score: 0.748\n",
      "Test set score: 0.745\n",
      "EachCV:\n",
      "[0.76376812 0.72898551 0.75942029 0.75362319 0.73188406]\n",
      "KFold:\n",
      "0.748\n"
     ]
    }
   ],
   "source": [
    "# L2 evaluation\n",
    "# w/o cv\n",
    "l2 = LogisticRegression(C=2.81, penalty='l2', solver='newton-cg',\n",
    "                        max_iter=10000).fit(X_train_scaled, y_train)\n",
    "print(\"Ridge.coef_:\\n{}\".format(l2.coef_))\n",
    "print(\"Training set score: {:.3f}\".format(l2.score(X_train_scaled, y_train)))\n",
    "print(\"Test set score: {:.3f}\".format(l2.score(X_test_scaled, y_test)))\n",
    "\n",
    "#w/ cv\n",
    "l2_cv = cross_val_score(LogisticRegression(\n",
    "    C=2.81, penalty='l2', solver='newton-cg', max_iter=10000), X_train_scaled, y_train, cv=kf)\n",
    "print(\"EachCV:\\n{}\".format(l2_cv))\n",
    "print(\"KFold:\\n{:.3f}\".format(mean(l2_cv)))\n"
   ]
  },
  {
   "cell_type": "markdown",
   "metadata": {},
   "source": [
    "# 11: Choose a fourth model from question four. Using the same three variables in the dataset that you think will be good predictors of \"spam\". Describe why you chose any particular parameters for your model (e.g.- if you used KNN how did you decide to choose a specific value for k). Run the model and evaluate prediction error in two ways: A) On test data directly and B) using k-fold cross-validation. Did this model predict test data better than your previous models?\n"
   ]
  },
  {
   "cell_type": "markdown",
   "metadata": {},
   "source": [
    "My model is Logistic Regression without penalty.\n",
    "\n",
    "There is no tuning parameter for Logistic Regression without penalty.\n",
    "\n",
    "Logistic Regression is outperformed by every other models.\n"
   ]
  },
  {
   "cell_type": "code",
   "execution_count": 58,
   "metadata": {},
   "outputs": [
    {
     "name": "stdout",
     "output_type": "stream",
     "text": [
      "logreg .coef_:\n",
      "[[1.81500449 1.04615769 0.31655346]]\n",
      "Training set score: 0.745\n",
      "Test set score: 0.745\n",
      "EachCV:\n",
      "[0.76376812 0.72753623 0.75652174 0.74927536 0.73188406]\n",
      "KFold:\n",
      "0.746\n"
     ]
    }
   ],
   "source": [
    "# Log Reg Evaluation\n",
    "# w/o cv\n",
    "logreg = LogisticRegression(max_iter=10000).fit(X_train_scaled, y_train)\n",
    "\n",
    "print(\"logreg .coef_:\\n{}\".format(logreg.coef_))\n",
    "print(\"Training set score: {:.3f}\".format(\n",
    "    logreg.score(X_train_scaled, y_train)))\n",
    "print(\"Test set score: {:.3f}\".format(logreg.score(X_test_scaled, y_test)))\n",
    "\n",
    "#w/ cv\n",
    "logcv = cross_val_score(LogisticRegression(\n",
    "    max_iter=10000), X_train_scaled, y_train, cv=kf)\n",
    "print(\"EachCV:\\n{}\".format(logcv))\n",
    "print(\"KFold:\\n{:.3f}\".format(mean(logcv)))\n"
   ]
  },
  {
   "cell_type": "markdown",
   "metadata": {},
   "source": [
    "# 12: Now rerun your best model from questions 8 through 11, but this time add three new variables to the model that you think will increase prediction accuracy. Did this model predict test data better than your previous models?\n"
   ]
  },
  {
   "cell_type": "markdown",
   "metadata": {},
   "source": [
    "The best model is KNNClassifier.\n"
   ]
  },
  {
   "cell_type": "markdown",
   "metadata": {},
   "source": [
    "With the three additional variables, the score of the new KNN model improved. The model predicted test data better than my previous models.\n"
   ]
  },
  {
   "cell_type": "code",
   "execution_count": 59,
   "metadata": {},
   "outputs": [],
   "source": [
    "# Train test split and scaling\n",
    "df_x2 = df[['word_freq_credit:', 'word_freq_money:', 'word_freq_order:',\n",
    "            'word_freq_your:', 'word_freq_our:', 'capital_run_length_average:']]\n",
    "y = df['spam']\n",
    "X2 = df_x2\n",
    "X2_train, X2_test, y_train, y_test = train_test_split(X2, y, random_state=35)\n",
    "\n",
    "scaler = preprocessing.StandardScaler()\n",
    "scaler.fit(X2_train)\n",
    "scaler.fit(X2_test)\n",
    "X2_train_scaled = scaler.transform(X2_train)\n",
    "X2_test_scaled = scaler.transform(X2_test)\n"
   ]
  },
  {
   "cell_type": "code",
   "execution_count": 60,
   "metadata": {},
   "outputs": [
    {
     "name": "stdout",
     "output_type": "stream",
     "text": [
      "Training set accuracy: 0.857\n",
      "Test set accuracy: 0.829\n",
      "EachCV:\n",
      "[0.84927536 0.82173913 0.84202899 0.85217391 0.81304348]\n",
      "KFold:\n",
      "0.836\n"
     ]
    }
   ],
   "source": [
    "# KNN\n",
    "# w/o cv\n",
    "knn_6 = KNeighborsClassifier(n_neighbors=9)\n",
    "knn_6.fit(X2_train_scaled, y_train)\n",
    "\n",
    "print(\"Training set accuracy: {:.3f}\".format(\n",
    "    knn_6.score(X2_train_scaled, y_train)))\n",
    "print(\"Test set accuracy: {:.3f}\".format(knn_6.score(X2_test_scaled, y_test)))\n",
    "\n",
    "#w/ cv\n",
    "print(\"EachCV:\\n{}\".format(cross_val_score(KNeighborsClassifier(\n",
    "    n_neighbors=9), X2_train_scaled, y_train, cv=kf)))\n",
    "print(\"KFold:\\n{:.3f}\".format(\n",
    "    mean(cross_val_score(KNeighborsClassifier(n_neighbors=9), X2_train_scaled, y_train, cv=kf))))\n"
   ]
  },
  {
   "cell_type": "markdown",
   "metadata": {},
   "source": [
    "# 13: Rerun all your other models with this final set of six variables, evaluate prediction error, and choose a final model. Why did you select this model among all of the models that you ran?\n"
   ]
  },
  {
   "cell_type": "markdown",
   "metadata": {},
   "source": [
    "I would select KNNClassifier as my final model.\n",
    "\n",
    "The reason is that with six variables, it has the best scores in training set accuracy, test set accuracy, and cross validation model evaluation score among all models.\n"
   ]
  },
  {
   "cell_type": "code",
   "execution_count": 61,
   "metadata": {},
   "outputs": [
    {
     "name": "stdout",
     "output_type": "stream",
     "text": [
      "Ridge.coef_:\n",
      "[[1.46822895 0.65643011 0.20980407 0.75502584 0.5516681  2.69428779]]\n",
      "Training set score: 0.810\n",
      "Test set score: 0.801\n",
      "EachCV:\n",
      "[0.82173913 0.77536232 0.81449275 0.8115942  0.79130435]\n",
      "KFold:\n",
      "0.803\n"
     ]
    }
   ],
   "source": [
    "# L2\n",
    "# w/o cv\n",
    "l2_6 = LogisticRegression(C=2.81, penalty='l2', solver='newton-cg',\n",
    "                          max_iter=10000).fit(X2_train_scaled, y_train)\n",
    "print(\"Ridge.coef_:\\n{}\".format(l2_6.coef_))\n",
    "print(\"Training set score: {:.3f}\".format(\n",
    "    l2_6.score(X2_train_scaled, y_train)))\n",
    "print(\"Test set score: {:.3f}\".format(l2_6.score(X2_test_scaled, y_test)))\n",
    "\n",
    "#w/ cv\n",
    "l2_cv_6 = cross_val_score(LogisticRegression(\n",
    "    C=2.81, penalty='l2', solver='newton-cg', max_iter=10000), X2_train_scaled, y_train, cv=kf)\n",
    "print(\"EachCV:\\n{}\".format(l2_cv_6))\n",
    "print(\"KFold:\\n{:.3f}\".format(mean(l2_cv_6)))\n"
   ]
  },
  {
   "cell_type": "code",
   "execution_count": 62,
   "metadata": {},
   "outputs": [
    {
     "name": "stdout",
     "output_type": "stream",
     "text": [
      "Lasso.coef_:\n",
      "[[1.45586902 0.65370171 0.20814478 0.75403555 0.55014738 2.71059191]]\n",
      "Training set score: 0.810\n",
      "Test set score: 0.800\n",
      "EachCV:\n",
      "[0.82028986 0.77536232 0.81594203 0.8115942  0.79275362]\n",
      "KFold:\n",
      "0.803\n"
     ]
    }
   ],
   "source": [
    "# L1\n",
    "# w/o cv\n",
    "l1_6 = LogisticRegression(C=1.31, penalty='l1', solver='liblinear',\n",
    "                          max_iter=10000).fit(X2_train_scaled, y_train)\n",
    "print(\"Lasso.coef_:\\n{}\".format(l1_6.coef_))\n",
    "print(\"Training set score: {:.3f}\".format(\n",
    "    l1_6.score(X2_train_scaled, y_train)))\n",
    "print(\"Test set score: {:.3f}\".format(l1_6.score(X2_test_scaled, y_test)))\n",
    "\n",
    "#w/ cv\n",
    "l1_cv_6 = cross_val_score(LogisticRegression(\n",
    "    C=1.31, penalty='l1', solver='liblinear', max_iter=10000), X2_train_scaled, y_train, cv=kf)\n",
    "print(\"EachCV:\\n{}\".format(l1_cv_6))\n",
    "print(\"KFold:\\n{:.3f}\".format(mean(l1_cv_6)))\n"
   ]
  },
  {
   "cell_type": "code",
   "execution_count": 63,
   "metadata": {},
   "outputs": [
    {
     "name": "stdout",
     "output_type": "stream",
     "text": [
      "logreg .coef_:\n",
      "[[1.40424262 0.65779346 0.2133687  0.75456193 0.55107367 2.60162343]]\n",
      "Training set score: 0.808\n",
      "Test set score: 0.801\n",
      "EachCV:\n",
      "[0.8173913  0.77826087 0.81304348 0.8115942  0.78550725]\n",
      "KFold:\n",
      "0.801\n"
     ]
    }
   ],
   "source": [
    "# Log Reg\n",
    "# w/o cv\n",
    "logreg_6 = LogisticRegression(max_iter=10000).fit(X2_train_scaled, y_train)\n",
    "\n",
    "print(\"logreg .coef_:\\n{}\".format(logreg_6.coef_))\n",
    "print(\"Training set score: {:.3f}\".format(\n",
    "    logreg_6.score(X2_train_scaled, y_train)))\n",
    "print(\"Test set score: {:.3f}\".format(logreg_6.score(X2_test_scaled, y_test)))\n",
    "\n",
    "#w/ cv\n",
    "logcv_6 = cross_val_score(LogisticRegression(\n",
    "    max_iter=10000), X2_train_scaled, y_train, cv=kf)\n",
    "print(\"EachCV:\\n{}\".format(logcv_6))\n",
    "print(\"KFold:\\n{:.3f}\".format(mean(logcv_6)))\n"
   ]
  },
  {
   "cell_type": "markdown",
   "metadata": {},
   "source": [
    "# 14: What variable that currently is not in your model, if included, would be likely to increase your final model's predictive power? For this answer try to speculate about a variable outside the variables available in the data that would improve you model.\n"
   ]
  },
  {
   "cell_type": "markdown",
   "metadata": {},
   "source": [
    "One variable that can be useful is the email clients. With this variable being present, one can build a model in a model-based perspective, such as looking at the differences between the frequencies of a certain vocabulary that appear in spam emails that are sent to Gmail users and Outlook users. Thus, our model can learn clients-specific spams and, consequently, more accurately predict spam.\n"
   ]
  },
  {
   "cell_type": "markdown",
   "metadata": {},
   "source": [
    "# 15: Lastly, you have listed each of the models that we have learned to use to predict dependent variables like spam. List each model we have focused on in class thus far that you could use to evaluate data with a continuous dependent variable.\n"
   ]
  },
  {
   "cell_type": "markdown",
   "metadata": {},
   "source": [
    "KNN, linear regression, Ridge, Lasso, SVM, decision tree, bagged tree, random forest\n"
   ]
  }
 ],
 "metadata": {
  "interpreter": {
   "hash": "b96b0ec23799406967d3f4dd0683001034882b59242e4bd0b6916b0a0b0b8c31"
  },
  "kernelspec": {
   "display_name": "Python 3",
   "language": "python",
   "name": "python3"
  },
  "language_info": {
   "codemirror_mode": {
    "name": "ipython",
    "version": 3
   },
   "file_extension": ".py",
   "mimetype": "text/x-python",
   "name": "python",
   "nbconvert_exporter": "python",
   "pygments_lexer": "ipython3",
   "version": "3.8.8"
  }
 },
 "nbformat": 4,
 "nbformat_minor": 2
}
